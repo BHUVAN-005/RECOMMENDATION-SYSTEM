{
  "nbformat": 4,
  "nbformat_minor": 0,
  "metadata": {
    "colab": {
      "provenance": [],
      "authorship_tag": "ABX9TyObmU96fJfd6ET6nNt+zdSx",
      "include_colab_link": true
    },
    "kernelspec": {
      "name": "python3",
      "display_name": "Python 3"
    },
    "language_info": {
      "name": "python"
    }
  },
  "cells": [
    {
      "cell_type": "markdown",
      "metadata": {
        "id": "view-in-github",
        "colab_type": "text"
      },
      "source": [
        "<a href=\"https://colab.research.google.com/github/BHUVAN-005/RECOMMENDATION-SYSTEM/blob/main/RECOMMENDATION_SYSTEM.ipynb\" target=\"_parent\"><img src=\"https://colab.research.google.com/assets/colab-badge.svg\" alt=\"Open In Colab\"/></a>"
      ]
    },
    {
      "cell_type": "markdown",
      "source": [
        "# Recommendation System using SVD (Collaborative Filtering)\n",
        "# Dataset: MovieLens 100K\n",
        "# Done By: K Naga Santosh Sai Bhuvan"
      ],
      "metadata": {
        "id": "3fkCmSy9umlH"
      }
    },
    {
      "cell_type": "markdown",
      "source": [
        "\n",
        "# Step 1: Install and Import Required Libraries"
      ],
      "metadata": {
        "id": "ZzPyYkE8uxHH"
      }
    },
    {
      "cell_type": "code",
      "source": [
        "!pip install surprise\n",
        "!pip install numpy==1.24.4\n",
        "!pip install scikit-surprise"
      ],
      "metadata": {
        "colab": {
          "base_uri": "https://localhost:8080/"
        },
        "id": "X9gI8L3FwVJs",
        "outputId": "a7ee0cf8-1d5c-4dd4-e781-ab41193b360d"
      },
      "execution_count": 1,
      "outputs": [
        {
          "output_type": "stream",
          "name": "stdout",
          "text": [
            "Requirement already satisfied: surprise in /usr/local/lib/python3.11/dist-packages (0.1)\n",
            "Requirement already satisfied: scikit-surprise in /usr/local/lib/python3.11/dist-packages (from surprise) (1.1.4)\n",
            "Requirement already satisfied: joblib>=1.2.0 in /usr/local/lib/python3.11/dist-packages (from scikit-surprise->surprise) (1.5.0)\n",
            "Requirement already satisfied: numpy>=1.19.5 in /usr/local/lib/python3.11/dist-packages (from scikit-surprise->surprise) (1.24.4)\n",
            "Requirement already satisfied: scipy>=1.6.0 in /usr/local/lib/python3.11/dist-packages (from scikit-surprise->surprise) (1.15.3)\n",
            "Requirement already satisfied: numpy==1.24.4 in /usr/local/lib/python3.11/dist-packages (1.24.4)\n",
            "Requirement already satisfied: scikit-surprise in /usr/local/lib/python3.11/dist-packages (1.1.4)\n",
            "Requirement already satisfied: joblib>=1.2.0 in /usr/local/lib/python3.11/dist-packages (from scikit-surprise) (1.5.0)\n",
            "Requirement already satisfied: numpy>=1.19.5 in /usr/local/lib/python3.11/dist-packages (from scikit-surprise) (1.24.4)\n",
            "Requirement already satisfied: scipy>=1.6.0 in /usr/local/lib/python3.11/dist-packages (from scikit-surprise) (1.15.3)\n"
          ]
        }
      ]
    },
    {
      "cell_type": "code",
      "execution_count": 1,
      "metadata": {
        "id": "lJC-OupzuXFn"
      },
      "outputs": [],
      "source": [
        "from surprise import SVD, Dataset, Reader\n",
        "from surprise.model_selection import train_test_split, cross_validate\n",
        "from surprise import accuracy\n",
        "import pandas as pd\n",
        "import numpy as np\n",
        "import matplotlib.pyplot as plt\n",
        "import seaborn as sns\n"
      ]
    },
    {
      "cell_type": "markdown",
      "source": [
        "# Step 2: Load MovieLens Dataset (Built-in)"
      ],
      "metadata": {
        "id": "Rkd6aTXUvWLI"
      }
    },
    {
      "cell_type": "code",
      "source": [
        "data = Dataset.load_builtin('ml-100k')  # MovieLens 100K dataset\n",
        "trainset, testset = train_test_split(data, test_size=0.2, random_state=42)"
      ],
      "metadata": {
        "colab": {
          "base_uri": "https://localhost:8080/"
        },
        "id": "n7EmrOH1u33Q",
        "outputId": "b3f234f8-d422-4df2-d19b-376ae299e076"
      },
      "execution_count": 2,
      "outputs": [
        {
          "output_type": "stream",
          "name": "stdout",
          "text": [
            "Dataset ml-100k could not be found. Do you want to download it? [Y/n] y\n",
            "Trying to download dataset from https://files.grouplens.org/datasets/movielens/ml-100k.zip...\n",
            "Done! Dataset ml-100k has been saved to /root/.surprise_data/ml-100k\n"
          ]
        }
      ]
    },
    {
      "cell_type": "markdown",
      "source": [
        "#  Step 3: Build SVD Collaborative Filtering Model"
      ],
      "metadata": {
        "id": "hYYNSZimvYjq"
      }
    },
    {
      "cell_type": "code",
      "source": [
        "model = SVD()\n",
        "model.fit(trainset)"
      ],
      "metadata": {
        "colab": {
          "base_uri": "https://localhost:8080/"
        },
        "id": "JVe9iBjCu6Po",
        "outputId": "602f486c-2ad2-4c6d-8dae-c2a500a5edd2"
      },
      "execution_count": 3,
      "outputs": [
        {
          "output_type": "execute_result",
          "data": {
            "text/plain": [
              "<surprise.prediction_algorithms.matrix_factorization.SVD at 0x7d4f7a7d62d0>"
            ]
          },
          "metadata": {},
          "execution_count": 3
        }
      ]
    },
    {
      "cell_type": "markdown",
      "source": [
        "# Step 4: Make Predictions & Evaluate"
      ],
      "metadata": {
        "id": "yoUZPHoCvdnP"
      }
    },
    {
      "cell_type": "code",
      "source": [
        "predictions = model.test(testset)\n",
        "\n",
        "# Print a few predictions\n",
        "print(\"📌 Sample Predictions (User, Item, Actual, Predicted):\")\n",
        "for uid, iid, true_r, est, _ in predictions[:5]:\n",
        "    print(f\"User {uid} -> Movie {iid}: Actual = {true_r}, Predicted = {round(est, 2)}\")"
      ],
      "metadata": {
        "colab": {
          "base_uri": "https://localhost:8080/"
        },
        "id": "7Ws56pkYvFiv",
        "outputId": "9ec8bb61-5f38-499d-80ca-4865e3a05a02"
      },
      "execution_count": 4,
      "outputs": [
        {
          "output_type": "stream",
          "name": "stdout",
          "text": [
            "📌 Sample Predictions (User, Item, Actual, Predicted):\n",
            "User 907 -> Movie 143: Actual = 5.0, Predicted = 5\n",
            "User 371 -> Movie 210: Actual = 4.0, Predicted = 4.33\n",
            "User 218 -> Movie 42: Actual = 4.0, Predicted = 3.44\n",
            "User 829 -> Movie 170: Actual = 4.0, Predicted = 3.91\n",
            "User 733 -> Movie 277: Actual = 1.0, Predicted = 3.05\n"
          ]
        }
      ]
    },
    {
      "cell_type": "markdown",
      "source": [
        "#  Step 5: Evaluate with RMSE and MAE"
      ],
      "metadata": {
        "id": "ZAQ5Mi0yvgph"
      }
    },
    {
      "cell_type": "code",
      "source": [
        "rmse = accuracy.rmse(predictions)\n",
        "mae = accuracy.mae(predictions)"
      ],
      "metadata": {
        "colab": {
          "base_uri": "https://localhost:8080/"
        },
        "id": "33b69AuwvLJ2",
        "outputId": "8f39fa28-47c9-4098-b2f4-e93ad6cad2b0"
      },
      "execution_count": 5,
      "outputs": [
        {
          "output_type": "stream",
          "name": "stdout",
          "text": [
            "RMSE: 0.9356\n",
            "MAE:  0.7371\n"
          ]
        }
      ]
    },
    {
      "cell_type": "markdown",
      "source": [
        "#  Step 6: Cross Validation"
      ],
      "metadata": {
        "id": "JEKOG5Tzvkr2"
      }
    },
    {
      "cell_type": "code",
      "source": [
        "cross_validate(model, data, measures=['RMSE', 'MAE'], cv=5, verbose=True)"
      ],
      "metadata": {
        "colab": {
          "base_uri": "https://localhost:8080/"
        },
        "id": "aQSfT7itvMtg",
        "outputId": "7dc78566-9f46-4be6-d5aa-a4e07e5c5958"
      },
      "execution_count": 6,
      "outputs": [
        {
          "output_type": "stream",
          "name": "stdout",
          "text": [
            "Evaluating RMSE, MAE of algorithm SVD on 5 split(s).\n",
            "\n",
            "                  Fold 1  Fold 2  Fold 3  Fold 4  Fold 5  Mean    Std     \n",
            "RMSE (testset)    0.9337  0.9424  0.9257  0.9392  0.9403  0.9363  0.0060  \n",
            "MAE (testset)     0.7358  0.7418  0.7284  0.7418  0.7401  0.7376  0.0051  \n",
            "Fit time          1.17    1.21    1.14    1.18    1.37    1.22    0.08    \n",
            "Test time         0.25    0.10    0.15    0.26    0.23    0.20    0.06    \n"
          ]
        },
        {
          "output_type": "execute_result",
          "data": {
            "text/plain": [
              "{'test_rmse': array([0.93371679, 0.94244697, 0.92573118, 0.93922498, 0.94033165]),\n",
              " 'test_mae': array([0.73577338, 0.7417537 , 0.72842084, 0.74179102, 0.7400922 ]),\n",
              " 'fit_time': (1.1734559535980225,\n",
              "  1.2120287418365479,\n",
              "  1.1435184478759766,\n",
              "  1.179847240447998,\n",
              "  1.3678562641143799),\n",
              " 'test_time': (0.25493860244750977,\n",
              "  0.10095643997192383,\n",
              "  0.14827251434326172,\n",
              "  0.2564980983734131,\n",
              "  0.22832942008972168)}"
            ]
          },
          "metadata": {},
          "execution_count": 6
        }
      ]
    },
    {
      "cell_type": "markdown",
      "source": [
        "#  Step 7: Generate Top-N Recommendations for a User"
      ],
      "metadata": {
        "id": "SYsYgs2gvoRJ"
      }
    },
    {
      "cell_type": "code",
      "source": [
        "from collections import defaultdict\n",
        "\n",
        "def get_top_n(predictions, n=5):\n",
        "    top_n = defaultdict(list)\n",
        "    for uid, iid, true_r, est, _ in predictions:\n",
        "        top_n[uid].append((iid, est))\n",
        "\n",
        "    # Sort predictions for each user and retrieve top-N\n",
        "    for uid, user_ratings in top_n.items():\n",
        "        user_ratings.sort(key=lambda x: x[1], reverse=True)\n",
        "        top_n[uid] = user_ratings[:n]\n",
        "    return top_n\n",
        "\n",
        "top_n = get_top_n(predictions, n=5)\n",
        "\n",
        "# Show recommendations for a few users\n",
        "for uid, user_recs in list(top_n.items())[:3]:\n",
        "    print(f\"\\nTop 5 recommendations for User {uid}:\")\n",
        "    for iid, rating in user_recs:\n",
        "        print(f\"Movie ID {iid} with predicted rating {round(rating, 2)}\")"
      ],
      "metadata": {
        "colab": {
          "base_uri": "https://localhost:8080/"
        },
        "id": "5OoSqGnYvEWp",
        "outputId": "c9172197-c6dc-464a-ed7e-4d4061a9ad42"
      },
      "execution_count": 7,
      "outputs": [
        {
          "output_type": "stream",
          "name": "stdout",
          "text": [
            "\n",
            "Top 5 recommendations for User 907:\n",
            "Movie ID 143 with predicted rating 5\n",
            "Movie ID 173 with predicted rating 5\n",
            "Movie ID 172 with predicted rating 5\n",
            "Movie ID 647 with predicted rating 5\n",
            "Movie ID 185 with predicted rating 5\n",
            "\n",
            "Top 5 recommendations for User 371:\n",
            "Movie ID 210 with predicted rating 4.33\n",
            "Movie ID 186 with predicted rating 4.26\n",
            "Movie ID 97 with predicted rating 4.16\n",
            "Movie ID 746 with predicted rating 4.11\n",
            "Movie ID 431 with predicted rating 3.94\n",
            "\n",
            "Top 5 recommendations for User 218:\n",
            "Movie ID 12 with predicted rating 3.97\n",
            "Movie ID 654 with predicted rating 3.8\n",
            "Movie ID 209 with predicted rating 3.76\n",
            "Movie ID 789 with predicted rating 3.62\n",
            "Movie ID 42 with predicted rating 3.44\n"
          ]
        }
      ]
    }
  ]
}